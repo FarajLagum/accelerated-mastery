{
  "cells": [
    {
      "cell_type": "markdown",
      "id": "6cb4c1d3",
      "metadata": {
        "id": "6cb4c1d3"
      },
      "source": [
        "<div style=\"display: flex; align-items: center;\">\n",
        "    <a href=\"https://github.com/fralfaro/DS-Cheat-Sheets/blob/main/docs/files/pandas_cs.pdf\" target=\"_parent\" style=\"margin-right: 10px;\">\n",
        "        <img src=\"https://img.shields.io/badge/Open in PDF-%23FF0000.svg?style=flat-square&logo=adobe&logoColor=white\"/>\n",
        "    </a>\n",
        "    <a href=\"https://ds-cheat-sheets-pandas.streamlit.app/\" target=\"_parent\" style=\"margin-right: 10px;\">\n",
        "        <img src=\"https://static.streamlit.io/badges/streamlit_badge_black_white.svg\"/>\n",
        "    </a>\n",
        "    <a href=\"https://colab.research.google.com/github/fralfaro/DS-Cheat-Sheets/blob/main/docs/examples/pandas/pandas.ipynb\" target=\"_parent\">\n",
        "        <img src=\"https://colab.research.google.com/assets/colab-badge.svg\" alt=\"Open In Colab\"/>\n",
        "    </a>\n",
        "</div>"
      ]
    },
    {
      "cell_type": "markdown",
      "id": "ae90d978",
      "metadata": {
        "id": "ae90d978"
      },
      "source": [
        "# Pandas\n",
        "\n",
        "<img src=\"https://raw.githubusercontent.com/fralfaro/DS-Cheat-Sheets/main/docs/examples/pandas/pandas.png\" alt=\"numpy logo\" width = \"300\">\n",
        "\n",
        "[Pandas](https://pandas.pydata.org/) is built on NumPy and provides easy-to-use\n",
        "data structures and data analysis tools for the Python\n",
        "programming language.\n",
        "\n",
        "## Install and import Pandas\n",
        "\n",
        "`\n",
        "$ pip install pandas\n",
        "`"
      ]
    },
    {
      "cell_type": "code",
      "execution_count": null,
      "id": "805a07df",
      "metadata": {
        "id": "805a07df"
      },
      "outputs": [],
      "source": [
        "# Import Pandas convention\n",
        "import pandas as pd"
      ]
    },
    {
      "cell_type": "markdown",
      "id": "75775834",
      "metadata": {
        "id": "75775834"
      },
      "source": [
        "## Pandas Data Structures\n",
        "\n",
        "**Series**\n",
        "\n",
        "<img src=\"https://raw.githubusercontent.com/fralfaro/DS-Cheat-Sheets/main/docs/examples/pandas/serie.png\" alt=\"numpy logo\" >\n",
        "\n",
        "A **one-dimensional** labeled array a capable of holding any data type."
      ]
    },
    {
      "cell_type": "code",
      "execution_count": null,
      "id": "fbef430f",
      "metadata": {
        "id": "fbef430f",
        "outputId": "6f6386a5-9e61-40d0-a94f-7cb3e5cbbb53"
      },
      "outputs": [
        {
          "name": "stdout",
          "output_type": "stream",
          "text": [
            "s:\n"
          ]
        },
        {
          "data": {
            "text/plain": [
              "a    3\n",
              "b   -5\n",
              "c    7\n",
              "d    4\n",
              "dtype: int64"
            ]
          },
          "execution_count": 2,
          "metadata": {},
          "output_type": "execute_result"
        }
      ],
      "source": [
        "# Create a pandas Series\n",
        "s = pd.Series(\n",
        "    [3, -5, 7, 4],\n",
        "    index=['a', 'b', 'c', 'd']\n",
        ")\n",
        "\n",
        "# Print the pandas Series\n",
        "print(\"s:\")\n",
        "s"
      ]
    },
    {
      "cell_type": "markdown",
      "id": "feba27ca",
      "metadata": {
        "id": "feba27ca"
      },
      "source": [
        "**DataFrame**\n",
        "\n",
        "<img src=\"https://raw.githubusercontent.com/fralfaro/DS-Cheat-Sheets/main/docs/examples/pandas/df.png\" alt=\"numpy logo\" >\n",
        "\n",
        "**two-dimensional** labeled data structure with columns of potentially different types."
      ]
    },
    {
      "cell_type": "code",
      "execution_count": null,
      "id": "7bcbaad2",
      "metadata": {
        "id": "7bcbaad2",
        "outputId": "b1744141-5e23-4050-f3dd-95eae16bd62c"
      },
      "outputs": [
        {
          "name": "stdout",
          "output_type": "stream",
          "text": [
            "\n",
            "df:\n"
          ]
        },
        {
          "data": {
            "text/html": [
              "<div>\n",
              "<style scoped>\n",
              "    .dataframe tbody tr th:only-of-type {\n",
              "        vertical-align: middle;\n",
              "    }\n",
              "\n",
              "    .dataframe tbody tr th {\n",
              "        vertical-align: top;\n",
              "    }\n",
              "\n",
              "    .dataframe thead th {\n",
              "        text-align: right;\n",
              "    }\n",
              "</style>\n",
              "<table border=\"1\" class=\"dataframe\">\n",
              "  <thead>\n",
              "    <tr style=\"text-align: right;\">\n",
              "      <th></th>\n",
              "      <th>Country</th>\n",
              "      <th>Capital</th>\n",
              "      <th>Population</th>\n",
              "    </tr>\n",
              "  </thead>\n",
              "  <tbody>\n",
              "    <tr>\n",
              "      <th>0</th>\n",
              "      <td>Belgium</td>\n",
              "      <td>Brussels</td>\n",
              "      <td>11190846</td>\n",
              "    </tr>\n",
              "    <tr>\n",
              "      <th>1</th>\n",
              "      <td>India</td>\n",
              "      <td>New Delhi</td>\n",
              "      <td>1303171035</td>\n",
              "    </tr>\n",
              "    <tr>\n",
              "      <th>2</th>\n",
              "      <td>Brazil</td>\n",
              "      <td>Brasília</td>\n",
              "      <td>207847528</td>\n",
              "    </tr>\n",
              "  </tbody>\n",
              "</table>\n",
              "</div>"
            ],
            "text/plain": [
              "   Country    Capital  Population\n",
              "0  Belgium   Brussels    11190846\n",
              "1    India  New Delhi  1303171035\n",
              "2   Brazil   Brasília   207847528"
            ]
          },
          "execution_count": 3,
          "metadata": {},
          "output_type": "execute_result"
        }
      ],
      "source": [
        "# Create a pandas DataFrame\n",
        "data = {\n",
        "    'Country': ['Belgium', 'India', 'Brazil'],\n",
        "    'Capital': ['Brussels', 'New Delhi', 'Brasília'],\n",
        "    'Population': [11190846, 1303171035, 207847528]\n",
        "}\n",
        "df = pd.DataFrame(\n",
        "    data,\n",
        "    columns=['Country', 'Capital', 'Population']\n",
        ")\n",
        "\n",
        "# Print the DataFrame 'df'\n",
        "print(\"\\ndf:\")\n",
        "df"
      ]
    },
    {
      "cell_type": "markdown",
      "id": "4f0980ce",
      "metadata": {
        "id": "4f0980ce"
      },
      "source": [
        "## Getting Elements\n"
      ]
    },
    {
      "cell_type": "code",
      "execution_count": null,
      "id": "e9b66371",
      "metadata": {
        "id": "e9b66371",
        "outputId": "7ccf26e2-9b0d-4846-882c-f19d676c76e2"
      },
      "outputs": [
        {
          "data": {
            "text/plain": [
              "-5"
            ]
          },
          "execution_count": 4,
          "metadata": {},
          "output_type": "execute_result"
        }
      ],
      "source": [
        "# Get one element from a Series\n",
        "s['b']"
      ]
    },
    {
      "cell_type": "code",
      "execution_count": null,
      "id": "ab5893b3",
      "metadata": {
        "id": "ab5893b3",
        "outputId": "bc13e66f-ce7a-4093-82f6-daa1c120a09c"
      },
      "outputs": [
        {
          "data": {
            "text/html": [
              "<div>\n",
              "<style scoped>\n",
              "    .dataframe tbody tr th:only-of-type {\n",
              "        vertical-align: middle;\n",
              "    }\n",
              "\n",
              "    .dataframe tbody tr th {\n",
              "        vertical-align: top;\n",
              "    }\n",
              "\n",
              "    .dataframe thead th {\n",
              "        text-align: right;\n",
              "    }\n",
              "</style>\n",
              "<table border=\"1\" class=\"dataframe\">\n",
              "  <thead>\n",
              "    <tr style=\"text-align: right;\">\n",
              "      <th></th>\n",
              "      <th>Country</th>\n",
              "      <th>Capital</th>\n",
              "      <th>Population</th>\n",
              "    </tr>\n",
              "  </thead>\n",
              "  <tbody>\n",
              "    <tr>\n",
              "      <th>1</th>\n",
              "      <td>India</td>\n",
              "      <td>New Delhi</td>\n",
              "      <td>1303171035</td>\n",
              "    </tr>\n",
              "    <tr>\n",
              "      <th>2</th>\n",
              "      <td>Brazil</td>\n",
              "      <td>Brasília</td>\n",
              "      <td>207847528</td>\n",
              "    </tr>\n",
              "  </tbody>\n",
              "</table>\n",
              "</div>"
            ],
            "text/plain": [
              "  Country    Capital  Population\n",
              "1   India  New Delhi  1303171035\n",
              "2  Brazil   Brasília   207847528"
            ]
          },
          "execution_count": 5,
          "metadata": {},
          "output_type": "execute_result"
        }
      ],
      "source": [
        "# Get subset of a DataFrame\n",
        "df[1:]"
      ]
    },
    {
      "cell_type": "markdown",
      "id": "383c41b4",
      "metadata": {
        "id": "383c41b4"
      },
      "source": [
        "## Selecting, Boolean Indexing & Setting\n"
      ]
    },
    {
      "cell_type": "code",
      "execution_count": null,
      "id": "19e43639",
      "metadata": {
        "id": "19e43639",
        "outputId": "11b4c2c6-9a97-4a57-f19b-da019d572c6a"
      },
      "outputs": [
        {
          "data": {
            "text/html": [
              "<div>\n",
              "<style scoped>\n",
              "    .dataframe tbody tr th:only-of-type {\n",
              "        vertical-align: middle;\n",
              "    }\n",
              "\n",
              "    .dataframe tbody tr th {\n",
              "        vertical-align: top;\n",
              "    }\n",
              "\n",
              "    .dataframe thead th {\n",
              "        text-align: right;\n",
              "    }\n",
              "</style>\n",
              "<table border=\"1\" class=\"dataframe\">\n",
              "  <thead>\n",
              "    <tr style=\"text-align: right;\">\n",
              "      <th></th>\n",
              "      <th>Country</th>\n",
              "    </tr>\n",
              "  </thead>\n",
              "  <tbody>\n",
              "    <tr>\n",
              "      <th>0</th>\n",
              "      <td>Belgium</td>\n",
              "    </tr>\n",
              "  </tbody>\n",
              "</table>\n",
              "</div>"
            ],
            "text/plain": [
              "   Country\n",
              "0  Belgium"
            ]
          },
          "execution_count": 6,
          "metadata": {},
          "output_type": "execute_result"
        }
      ],
      "source": [
        "# Select single value by row & 'Belgium' column\n",
        "df.iloc[[0],[0]]\n",
        "# Output: 'Belgium'"
      ]
    },
    {
      "cell_type": "code",
      "execution_count": null,
      "id": "7a1c5d55",
      "metadata": {
        "id": "7a1c5d55",
        "outputId": "28259b0b-e14c-46d3-fbb7-cb2d2986e461"
      },
      "outputs": [
        {
          "data": {
            "text/html": [
              "<div>\n",
              "<style scoped>\n",
              "    .dataframe tbody tr th:only-of-type {\n",
              "        vertical-align: middle;\n",
              "    }\n",
              "\n",
              "    .dataframe tbody tr th {\n",
              "        vertical-align: top;\n",
              "    }\n",
              "\n",
              "    .dataframe thead th {\n",
              "        text-align: right;\n",
              "    }\n",
              "</style>\n",
              "<table border=\"1\" class=\"dataframe\">\n",
              "  <thead>\n",
              "    <tr style=\"text-align: right;\">\n",
              "      <th></th>\n",
              "      <th>Country</th>\n",
              "    </tr>\n",
              "  </thead>\n",
              "  <tbody>\n",
              "    <tr>\n",
              "      <th>0</th>\n",
              "      <td>Belgium</td>\n",
              "    </tr>\n",
              "  </tbody>\n",
              "</table>\n",
              "</div>"
            ],
            "text/plain": [
              "   Country\n",
              "0  Belgium"
            ]
          },
          "execution_count": 7,
          "metadata": {},
          "output_type": "execute_result"
        }
      ],
      "source": [
        "# Select single value by row & 'Belgium' column labels\n",
        "df.loc[[0], ['Country']]\n",
        "# Output: 'Belgium'"
      ]
    },
    {
      "cell_type": "code",
      "execution_count": null,
      "id": "e1b983e8",
      "metadata": {
        "id": "e1b983e8",
        "outputId": "697db823-ecc1-4c98-a62e-9c09e89a3d85"
      },
      "outputs": [
        {
          "data": {
            "text/plain": [
              "Country          Brazil\n",
              "Capital        Brasília\n",
              "Population    207847528\n",
              "Name: 2, dtype: object"
            ]
          },
          "execution_count": 8,
          "metadata": {},
          "output_type": "execute_result"
        }
      ],
      "source": [
        "# Select single row of subset of rows\n",
        "df.loc[2]\n",
        "# Output:\n",
        "# Country     Brazil\n",
        "# Capital    Brasília\n",
        "# Population 207847528"
      ]
    },
    {
      "cell_type": "code",
      "execution_count": null,
      "id": "cab4fc1e",
      "metadata": {
        "id": "cab4fc1e",
        "outputId": "c7cc1294-955e-4059-d136-577500402ca0"
      },
      "outputs": [
        {
          "data": {
            "text/plain": [
              "0     Brussels\n",
              "1    New Delhi\n",
              "2     Brasília\n",
              "Name: Capital, dtype: object"
            ]
          },
          "execution_count": 9,
          "metadata": {},
          "output_type": "execute_result"
        }
      ],
      "source": [
        "# Select a single column of subset of columns\n",
        "df.loc[:,'Capital']\n",
        "# Output:\n",
        "# 0     Brussels\n",
        "# 1    New Delhi\n",
        "# 2     Brasília"
      ]
    },
    {
      "cell_type": "code",
      "execution_count": null,
      "id": "894bd29b",
      "metadata": {
        "id": "894bd29b",
        "outputId": "f24e339d-4a04-41d3-8a3f-3e520dda3f9a"
      },
      "outputs": [
        {
          "data": {
            "text/plain": [
              "b   -5\n",
              "dtype: int64"
            ]
          },
          "execution_count": 10,
          "metadata": {},
          "output_type": "execute_result"
        }
      ],
      "source": [
        "# Boolean indexing - Series s where value is not > 1\n",
        "s[~(s > 1)]"
      ]
    },
    {
      "cell_type": "code",
      "execution_count": null,
      "id": "137fc348",
      "metadata": {
        "id": "137fc348",
        "outputId": "a4a4255c-ff6f-487c-f6b8-2289df3f6c1a"
      },
      "outputs": [
        {
          "data": {
            "text/plain": [
              "a    3\n",
              "b   -5\n",
              "c    7\n",
              "d    4\n",
              "dtype: int64"
            ]
          },
          "execution_count": 11,
          "metadata": {},
          "output_type": "execute_result"
        }
      ],
      "source": [
        "# Boolean indexing - s where value is <-1 or >2\n",
        "s[(s < -1) | (s > 2)]"
      ]
    },
    {
      "cell_type": "code",
      "execution_count": null,
      "id": "75baf5fe",
      "metadata": {
        "id": "75baf5fe",
        "outputId": "a05b0e44-f63f-4fd0-8c0a-e67ce01dedb4"
      },
      "outputs": [
        {
          "data": {
            "text/html": [
              "<div>\n",
              "<style scoped>\n",
              "    .dataframe tbody tr th:only-of-type {\n",
              "        vertical-align: middle;\n",
              "    }\n",
              "\n",
              "    .dataframe tbody tr th {\n",
              "        vertical-align: top;\n",
              "    }\n",
              "\n",
              "    .dataframe thead th {\n",
              "        text-align: right;\n",
              "    }\n",
              "</style>\n",
              "<table border=\"1\" class=\"dataframe\">\n",
              "  <thead>\n",
              "    <tr style=\"text-align: right;\">\n",
              "      <th></th>\n",
              "      <th>Country</th>\n",
              "      <th>Capital</th>\n",
              "      <th>Population</th>\n",
              "    </tr>\n",
              "  </thead>\n",
              "  <tbody>\n",
              "    <tr>\n",
              "      <th>1</th>\n",
              "      <td>India</td>\n",
              "      <td>New Delhi</td>\n",
              "      <td>1303171035</td>\n",
              "    </tr>\n",
              "  </tbody>\n",
              "</table>\n",
              "</div>"
            ],
            "text/plain": [
              "  Country    Capital  Population\n",
              "1   India  New Delhi  1303171035"
            ]
          },
          "execution_count": 12,
          "metadata": {},
          "output_type": "execute_result"
        }
      ],
      "source": [
        "# Use filter to adjust DataFrame\n",
        "df[df['Population'] > 1200000000]"
      ]
    },
    {
      "cell_type": "code",
      "execution_count": null,
      "id": "6e02eea4",
      "metadata": {
        "id": "6e02eea4",
        "outputId": "002e881a-c6f4-4742-e968-0dc7d619d478"
      },
      "outputs": [
        {
          "data": {
            "text/plain": [
              "a    6\n",
              "b   -5\n",
              "c    7\n",
              "d    4\n",
              "dtype: int64"
            ]
          },
          "execution_count": 13,
          "metadata": {},
          "output_type": "execute_result"
        }
      ],
      "source": [
        "# Setting index a of Series s to 6\n",
        "s['a'] = 6\n",
        "s"
      ]
    },
    {
      "cell_type": "markdown",
      "id": "bfee4693",
      "metadata": {
        "id": "bfee4693"
      },
      "source": [
        "## Dropping\n"
      ]
    },
    {
      "cell_type": "code",
      "execution_count": null,
      "id": "62c2d966",
      "metadata": {
        "id": "62c2d966",
        "outputId": "a1ad646d-dcc7-4d7b-ec63-20c29e619c85"
      },
      "outputs": [
        {
          "data": {
            "text/plain": [
              "b   -5\n",
              "d    4\n",
              "dtype: int64"
            ]
          },
          "execution_count": 14,
          "metadata": {},
          "output_type": "execute_result"
        }
      ],
      "source": [
        "# Drop values from rows (axis=0)\n",
        "s.drop(['a', 'c'])"
      ]
    },
    {
      "cell_type": "code",
      "execution_count": null,
      "id": "4a8f5162",
      "metadata": {
        "id": "4a8f5162",
        "outputId": "753d9a3a-dd42-4b26-a3cb-861c89114f6d"
      },
      "outputs": [
        {
          "data": {
            "text/html": [
              "<div>\n",
              "<style scoped>\n",
              "    .dataframe tbody tr th:only-of-type {\n",
              "        vertical-align: middle;\n",
              "    }\n",
              "\n",
              "    .dataframe tbody tr th {\n",
              "        vertical-align: top;\n",
              "    }\n",
              "\n",
              "    .dataframe thead th {\n",
              "        text-align: right;\n",
              "    }\n",
              "</style>\n",
              "<table border=\"1\" class=\"dataframe\">\n",
              "  <thead>\n",
              "    <tr style=\"text-align: right;\">\n",
              "      <th></th>\n",
              "      <th>Capital</th>\n",
              "      <th>Population</th>\n",
              "    </tr>\n",
              "  </thead>\n",
              "  <tbody>\n",
              "    <tr>\n",
              "      <th>0</th>\n",
              "      <td>Brussels</td>\n",
              "      <td>11190846</td>\n",
              "    </tr>\n",
              "    <tr>\n",
              "      <th>1</th>\n",
              "      <td>New Delhi</td>\n",
              "      <td>1303171035</td>\n",
              "    </tr>\n",
              "    <tr>\n",
              "      <th>2</th>\n",
              "      <td>Brasília</td>\n",
              "      <td>207847528</td>\n",
              "    </tr>\n",
              "  </tbody>\n",
              "</table>\n",
              "</div>"
            ],
            "text/plain": [
              "     Capital  Population\n",
              "0   Brussels    11190846\n",
              "1  New Delhi  1303171035\n",
              "2   Brasília   207847528"
            ]
          },
          "execution_count": 15,
          "metadata": {},
          "output_type": "execute_result"
        }
      ],
      "source": [
        "# Drop values from columns (axis=1)\n",
        "df.drop('Country', axis=1)"
      ]
    },
    {
      "cell_type": "markdown",
      "id": "9c8c241f",
      "metadata": {
        "id": "9c8c241f"
      },
      "source": [
        "## Sort & Rank\n"
      ]
    },
    {
      "cell_type": "code",
      "execution_count": null,
      "id": "920604d0",
      "metadata": {
        "id": "920604d0",
        "outputId": "86b04db1-e087-4bf7-f9c4-a509e59958a3"
      },
      "outputs": [
        {
          "data": {
            "text/html": [
              "<div>\n",
              "<style scoped>\n",
              "    .dataframe tbody tr th:only-of-type {\n",
              "        vertical-align: middle;\n",
              "    }\n",
              "\n",
              "    .dataframe tbody tr th {\n",
              "        vertical-align: top;\n",
              "    }\n",
              "\n",
              "    .dataframe thead th {\n",
              "        text-align: right;\n",
              "    }\n",
              "</style>\n",
              "<table border=\"1\" class=\"dataframe\">\n",
              "  <thead>\n",
              "    <tr style=\"text-align: right;\">\n",
              "      <th></th>\n",
              "      <th>Country</th>\n",
              "      <th>Capital</th>\n",
              "      <th>Population</th>\n",
              "    </tr>\n",
              "  </thead>\n",
              "  <tbody>\n",
              "    <tr>\n",
              "      <th>0</th>\n",
              "      <td>Belgium</td>\n",
              "      <td>Brussels</td>\n",
              "      <td>11190846</td>\n",
              "    </tr>\n",
              "    <tr>\n",
              "      <th>1</th>\n",
              "      <td>India</td>\n",
              "      <td>New Delhi</td>\n",
              "      <td>1303171035</td>\n",
              "    </tr>\n",
              "    <tr>\n",
              "      <th>2</th>\n",
              "      <td>Brazil</td>\n",
              "      <td>Brasília</td>\n",
              "      <td>207847528</td>\n",
              "    </tr>\n",
              "  </tbody>\n",
              "</table>\n",
              "</div>"
            ],
            "text/plain": [
              "   Country    Capital  Population\n",
              "0  Belgium   Brussels    11190846\n",
              "1    India  New Delhi  1303171035\n",
              "2   Brazil   Brasília   207847528"
            ]
          },
          "execution_count": 16,
          "metadata": {},
          "output_type": "execute_result"
        }
      ],
      "source": [
        "# Sort by labels along an axis\n",
        "df.sort_index()"
      ]
    },
    {
      "cell_type": "code",
      "execution_count": null,
      "id": "555e9a3e",
      "metadata": {
        "id": "555e9a3e",
        "outputId": "d98ef2f7-6e2a-4888-97b8-905411560d73"
      },
      "outputs": [
        {
          "data": {
            "text/html": [
              "<div>\n",
              "<style scoped>\n",
              "    .dataframe tbody tr th:only-of-type {\n",
              "        vertical-align: middle;\n",
              "    }\n",
              "\n",
              "    .dataframe tbody tr th {\n",
              "        vertical-align: top;\n",
              "    }\n",
              "\n",
              "    .dataframe thead th {\n",
              "        text-align: right;\n",
              "    }\n",
              "</style>\n",
              "<table border=\"1\" class=\"dataframe\">\n",
              "  <thead>\n",
              "    <tr style=\"text-align: right;\">\n",
              "      <th></th>\n",
              "      <th>Country</th>\n",
              "      <th>Capital</th>\n",
              "      <th>Population</th>\n",
              "    </tr>\n",
              "  </thead>\n",
              "  <tbody>\n",
              "    <tr>\n",
              "      <th>0</th>\n",
              "      <td>Belgium</td>\n",
              "      <td>Brussels</td>\n",
              "      <td>11190846</td>\n",
              "    </tr>\n",
              "    <tr>\n",
              "      <th>2</th>\n",
              "      <td>Brazil</td>\n",
              "      <td>Brasília</td>\n",
              "      <td>207847528</td>\n",
              "    </tr>\n",
              "    <tr>\n",
              "      <th>1</th>\n",
              "      <td>India</td>\n",
              "      <td>New Delhi</td>\n",
              "      <td>1303171035</td>\n",
              "    </tr>\n",
              "  </tbody>\n",
              "</table>\n",
              "</div>"
            ],
            "text/plain": [
              "   Country    Capital  Population\n",
              "0  Belgium   Brussels    11190846\n",
              "2   Brazil   Brasília   207847528\n",
              "1    India  New Delhi  1303171035"
            ]
          },
          "execution_count": 17,
          "metadata": {},
          "output_type": "execute_result"
        }
      ],
      "source": [
        "# Sort by the values along an axis\n",
        "df.sort_values(by='Country')"
      ]
    },
    {
      "cell_type": "code",
      "execution_count": null,
      "id": "555d69ea",
      "metadata": {
        "id": "555d69ea",
        "outputId": "ada3652b-4dd4-4d31-db31-4233595d76f8"
      },
      "outputs": [
        {
          "data": {
            "text/html": [
              "<div>\n",
              "<style scoped>\n",
              "    .dataframe tbody tr th:only-of-type {\n",
              "        vertical-align: middle;\n",
              "    }\n",
              "\n",
              "    .dataframe tbody tr th {\n",
              "        vertical-align: top;\n",
              "    }\n",
              "\n",
              "    .dataframe thead th {\n",
              "        text-align: right;\n",
              "    }\n",
              "</style>\n",
              "<table border=\"1\" class=\"dataframe\">\n",
              "  <thead>\n",
              "    <tr style=\"text-align: right;\">\n",
              "      <th></th>\n",
              "      <th>Country</th>\n",
              "      <th>Capital</th>\n",
              "      <th>Population</th>\n",
              "    </tr>\n",
              "  </thead>\n",
              "  <tbody>\n",
              "    <tr>\n",
              "      <th>0</th>\n",
              "      <td>1.0</td>\n",
              "      <td>2.0</td>\n",
              "      <td>1.0</td>\n",
              "    </tr>\n",
              "    <tr>\n",
              "      <th>1</th>\n",
              "      <td>3.0</td>\n",
              "      <td>3.0</td>\n",
              "      <td>3.0</td>\n",
              "    </tr>\n",
              "    <tr>\n",
              "      <th>2</th>\n",
              "      <td>2.0</td>\n",
              "      <td>1.0</td>\n",
              "      <td>2.0</td>\n",
              "    </tr>\n",
              "  </tbody>\n",
              "</table>\n",
              "</div>"
            ],
            "text/plain": [
              "   Country  Capital  Population\n",
              "0      1.0      2.0         1.0\n",
              "1      3.0      3.0         3.0\n",
              "2      2.0      1.0         2.0"
            ]
          },
          "execution_count": 18,
          "metadata": {},
          "output_type": "execute_result"
        }
      ],
      "source": [
        "# Assign ranks to entries\n",
        "df.rank()"
      ]
    },
    {
      "cell_type": "markdown",
      "id": "f469a195",
      "metadata": {
        "id": "f469a195"
      },
      "source": [
        "## Applying Functions\n"
      ]
    },
    {
      "cell_type": "code",
      "execution_count": null,
      "id": "e971306a",
      "metadata": {
        "id": "e971306a"
      },
      "outputs": [],
      "source": [
        "# Define a function\n",
        "f = lambda x: x*2"
      ]
    },
    {
      "cell_type": "code",
      "execution_count": null,
      "id": "698dac12",
      "metadata": {
        "id": "698dac12",
        "outputId": "7b4eeb2c-10a3-46eb-d81f-6dae1c9675a7"
      },
      "outputs": [
        {
          "data": {
            "text/html": [
              "<div>\n",
              "<style scoped>\n",
              "    .dataframe tbody tr th:only-of-type {\n",
              "        vertical-align: middle;\n",
              "    }\n",
              "\n",
              "    .dataframe tbody tr th {\n",
              "        vertical-align: top;\n",
              "    }\n",
              "\n",
              "    .dataframe thead th {\n",
              "        text-align: right;\n",
              "    }\n",
              "</style>\n",
              "<table border=\"1\" class=\"dataframe\">\n",
              "  <thead>\n",
              "    <tr style=\"text-align: right;\">\n",
              "      <th></th>\n",
              "      <th>Country</th>\n",
              "      <th>Capital</th>\n",
              "      <th>Population</th>\n",
              "    </tr>\n",
              "  </thead>\n",
              "  <tbody>\n",
              "    <tr>\n",
              "      <th>0</th>\n",
              "      <td>BelgiumBelgium</td>\n",
              "      <td>BrusselsBrussels</td>\n",
              "      <td>22381692</td>\n",
              "    </tr>\n",
              "    <tr>\n",
              "      <th>1</th>\n",
              "      <td>IndiaIndia</td>\n",
              "      <td>New DelhiNew Delhi</td>\n",
              "      <td>2606342070</td>\n",
              "    </tr>\n",
              "    <tr>\n",
              "      <th>2</th>\n",
              "      <td>BrazilBrazil</td>\n",
              "      <td>BrasíliaBrasília</td>\n",
              "      <td>415695056</td>\n",
              "    </tr>\n",
              "  </tbody>\n",
              "</table>\n",
              "</div>"
            ],
            "text/plain": [
              "          Country             Capital  Population\n",
              "0  BelgiumBelgium    BrusselsBrussels    22381692\n",
              "1      IndiaIndia  New DelhiNew Delhi  2606342070\n",
              "2    BrazilBrazil    BrasíliaBrasília   415695056"
            ]
          },
          "execution_count": 20,
          "metadata": {},
          "output_type": "execute_result"
        }
      ],
      "source": [
        "# Apply function to DataFrame\n",
        "df.apply(f)"
      ]
    },
    {
      "cell_type": "code",
      "execution_count": null,
      "id": "3a6559b8",
      "metadata": {
        "id": "3a6559b8",
        "outputId": "cbec3939-cd76-421e-c52b-8bd0f8610b68"
      },
      "outputs": [
        {
          "data": {
            "text/html": [
              "<div>\n",
              "<style scoped>\n",
              "    .dataframe tbody tr th:only-of-type {\n",
              "        vertical-align: middle;\n",
              "    }\n",
              "\n",
              "    .dataframe tbody tr th {\n",
              "        vertical-align: top;\n",
              "    }\n",
              "\n",
              "    .dataframe thead th {\n",
              "        text-align: right;\n",
              "    }\n",
              "</style>\n",
              "<table border=\"1\" class=\"dataframe\">\n",
              "  <thead>\n",
              "    <tr style=\"text-align: right;\">\n",
              "      <th></th>\n",
              "      <th>Country</th>\n",
              "      <th>Capital</th>\n",
              "      <th>Population</th>\n",
              "    </tr>\n",
              "  </thead>\n",
              "  <tbody>\n",
              "    <tr>\n",
              "      <th>0</th>\n",
              "      <td>BelgiumBelgium</td>\n",
              "      <td>BrusselsBrussels</td>\n",
              "      <td>22381692</td>\n",
              "    </tr>\n",
              "    <tr>\n",
              "      <th>1</th>\n",
              "      <td>IndiaIndia</td>\n",
              "      <td>New DelhiNew Delhi</td>\n",
              "      <td>2606342070</td>\n",
              "    </tr>\n",
              "    <tr>\n",
              "      <th>2</th>\n",
              "      <td>BrazilBrazil</td>\n",
              "      <td>BrasíliaBrasília</td>\n",
              "      <td>415695056</td>\n",
              "    </tr>\n",
              "  </tbody>\n",
              "</table>\n",
              "</div>"
            ],
            "text/plain": [
              "          Country             Capital  Population\n",
              "0  BelgiumBelgium    BrusselsBrussels    22381692\n",
              "1      IndiaIndia  New DelhiNew Delhi  2606342070\n",
              "2    BrazilBrazil    BrasíliaBrasília   415695056"
            ]
          },
          "execution_count": 21,
          "metadata": {},
          "output_type": "execute_result"
        }
      ],
      "source": [
        "# Apply function element-wise\n",
        "df.applymap(f)"
      ]
    },
    {
      "cell_type": "markdown",
      "id": "19c0ad57",
      "metadata": {
        "id": "19c0ad57"
      },
      "source": [
        "## Basic Information\n"
      ]
    },
    {
      "cell_type": "code",
      "execution_count": null,
      "id": "5028d138",
      "metadata": {
        "id": "5028d138",
        "outputId": "67822b64-1ea9-4136-8f39-237691286521"
      },
      "outputs": [
        {
          "data": {
            "text/plain": [
              "(3, 3)"
            ]
          },
          "execution_count": 22,
          "metadata": {},
          "output_type": "execute_result"
        }
      ],
      "source": [
        "# Get the shape (rows, columns)\n",
        "df.shape"
      ]
    },
    {
      "cell_type": "code",
      "execution_count": null,
      "id": "dab599a3",
      "metadata": {
        "id": "dab599a3",
        "outputId": "1d35fc46-12f2-4f3d-9b5f-ffbe12f89755"
      },
      "outputs": [
        {
          "data": {
            "text/plain": [
              "RangeIndex(start=0, stop=3, step=1)"
            ]
          },
          "execution_count": 23,
          "metadata": {},
          "output_type": "execute_result"
        }
      ],
      "source": [
        "# Describe index\n",
        "df.index"
      ]
    },
    {
      "cell_type": "code",
      "execution_count": null,
      "id": "96da4563",
      "metadata": {
        "id": "96da4563",
        "outputId": "f0876670-1ca6-4e98-f787-e55547054292"
      },
      "outputs": [
        {
          "data": {
            "text/plain": [
              "Index(['Country', 'Capital', 'Population'], dtype='object')"
            ]
          },
          "execution_count": 24,
          "metadata": {},
          "output_type": "execute_result"
        }
      ],
      "source": [
        "# Describe DataFrame columns\n",
        "df.columns"
      ]
    },
    {
      "cell_type": "code",
      "execution_count": null,
      "id": "695b930a",
      "metadata": {
        "id": "695b930a",
        "outputId": "b74fcee6-e429-4530-f78b-6875e9d310c1"
      },
      "outputs": [
        {
          "name": "stdout",
          "output_type": "stream",
          "text": [
            "<class 'pandas.core.frame.DataFrame'>\n",
            "RangeIndex: 3 entries, 0 to 2\n",
            "Data columns (total 3 columns):\n",
            " #   Column      Non-Null Count  Dtype \n",
            "---  ------      --------------  ----- \n",
            " 0   Country     3 non-null      object\n",
            " 1   Capital     3 non-null      object\n",
            " 2   Population  3 non-null      int64 \n",
            "dtypes: int64(1), object(2)\n",
            "memory usage: 200.0+ bytes\n"
          ]
        }
      ],
      "source": [
        "# Info on DataFrame\n",
        "df.info()"
      ]
    },
    {
      "cell_type": "code",
      "execution_count": null,
      "id": "be231fa8",
      "metadata": {
        "id": "be231fa8",
        "outputId": "63ca1337-0296-4582-c810-41cc769dc92c"
      },
      "outputs": [
        {
          "data": {
            "text/plain": [
              "Country       3\n",
              "Capital       3\n",
              "Population    3\n",
              "dtype: int64"
            ]
          },
          "execution_count": 26,
          "metadata": {},
          "output_type": "execute_result"
        }
      ],
      "source": [
        "# Number of non-NA values\n",
        "df.count()"
      ]
    },
    {
      "cell_type": "markdown",
      "id": "5e534cba",
      "metadata": {
        "id": "5e534cba"
      },
      "source": [
        "## Summary"
      ]
    },
    {
      "cell_type": "code",
      "execution_count": null,
      "id": "5a8429aa",
      "metadata": {
        "id": "5a8429aa",
        "outputId": "b7a38443-136f-45b4-e361-ed2f90b26186"
      },
      "outputs": [
        {
          "name": "stdout",
          "output_type": "stream",
          "text": [
            "Example DataFrame:\n",
            "   Country    Capital  Population\n",
            "0  Belgium   Brussels    11190846\n",
            "1    India  New Delhi  1303171035\n",
            "2   Brazil   Brasília   207847528\n",
            "\n",
            "Sum of values:\n",
            "1522209409\n",
            "\n",
            "Cumulative sum of values:\n",
            "0      11190846\n",
            "1    1314361881\n",
            "2    1522209409\n",
            "Name: Population, dtype: int64\n",
            "\n",
            "Minimum values:\n",
            "11190846\n",
            "\n",
            "Maximum values:\n",
            "1303171035\n",
            "\n",
            "Index of minimum values:\n",
            "0\n",
            "\n",
            "Index of maximum values:\n",
            "1\n",
            "\n",
            "Summary statistics:\n",
            "count    3.000000e+00\n",
            "mean     5.074031e+08\n",
            "std      6.961346e+08\n",
            "min      1.119085e+07\n",
            "25%      1.095192e+08\n",
            "50%      2.078475e+08\n",
            "75%      7.555093e+08\n",
            "max      1.303171e+09\n",
            "Name: Population, dtype: float64\n",
            "\n",
            "Mean values:\n",
            "507403136.3333333\n",
            "\n",
            "Median values:\n",
            "207847528.0\n"
          ]
        }
      ],
      "source": [
        "# Sum of values\n",
        "sum_values = df['Population'].sum()\n",
        "\n",
        "# Cumulative sum of values\n",
        "cumulative_sum_values = df['Population'].cumsum()\n",
        "\n",
        "# Minimum/maximum values\n",
        "min_values = df['Population'].min()\n",
        "max_values = df['Population'].max()\n",
        "\n",
        "# Index of minimum/maximum values\n",
        "idx_min_values = df['Population'].idxmin()\n",
        "idx_max_values = df['Population'].idxmax()\n",
        "\n",
        "# Summary statistics\n",
        "summary_stats = df['Population'].describe()\n",
        "\n",
        "# Mean of values\n",
        "mean_values = df['Population'].mean()\n",
        "\n",
        "# Median of values\n",
        "median_values = df['Population'].median()\n",
        "\n",
        "print(\"Example DataFrame:\")\n",
        "print(df)\n",
        "\n",
        "print(\"\\nSum of values:\")\n",
        "print(sum_values)\n",
        "\n",
        "print(\"\\nCumulative sum of values:\")\n",
        "print(cumulative_sum_values)\n",
        "\n",
        "print(\"\\nMinimum values:\")\n",
        "print(min_values)\n",
        "\n",
        "print(\"\\nMaximum values:\")\n",
        "print(max_values)\n",
        "\n",
        "print(\"\\nIndex of minimum values:\")\n",
        "print(idx_min_values)\n",
        "\n",
        "print(\"\\nIndex of maximum values:\")\n",
        "print(idx_max_values)\n",
        "\n",
        "print(\"\\nSummary statistics:\")\n",
        "print(summary_stats)\n",
        "\n",
        "print(\"\\nMean values:\")\n",
        "print(mean_values)\n",
        "\n",
        "print(\"\\nMedian values:\")\n",
        "print(median_values)\n"
      ]
    },
    {
      "cell_type": "markdown",
      "id": "7da015f7",
      "metadata": {
        "id": "7da015f7"
      },
      "source": [
        "## Internal Data Alignment\n"
      ]
    },
    {
      "cell_type": "code",
      "execution_count": null,
      "id": "7758b275",
      "metadata": {
        "id": "7758b275",
        "outputId": "1f070d08-8040-4e79-9fc7-79af1d85df34"
      },
      "outputs": [
        {
          "data": {
            "text/plain": [
              "a    7\n",
              "c   -2\n",
              "d    3\n",
              "dtype: int64"
            ]
          },
          "execution_count": 28,
          "metadata": {},
          "output_type": "execute_result"
        }
      ],
      "source": [
        "# Create Series with different indices\n",
        "s3 = pd.Series([7, -2, 3], index=['a', 'c', 'd'])\n",
        "s3"
      ]
    },
    {
      "cell_type": "code",
      "execution_count": null,
      "id": "93c866cc",
      "metadata": {
        "id": "93c866cc",
        "outputId": "1ff7ee3d-1784-41fb-eade-a9e5b0c8a364"
      },
      "outputs": [
        {
          "data": {
            "text/plain": [
              "a    13.0\n",
              "b     NaN\n",
              "c     5.0\n",
              "d     7.0\n",
              "dtype: float64"
            ]
          },
          "execution_count": 29,
          "metadata": {},
          "output_type": "execute_result"
        }
      ],
      "source": [
        "# Add two Series with different indices\n",
        "result = s + s3\n",
        "result"
      ]
    },
    {
      "cell_type": "markdown",
      "id": "5f62e0fe",
      "metadata": {
        "id": "5f62e0fe"
      },
      "source": [
        "## Arithmetic Operations with Fill Methods"
      ]
    },
    {
      "cell_type": "code",
      "execution_count": null,
      "id": "b1da5cf4",
      "metadata": {
        "id": "b1da5cf4",
        "outputId": "dd60e841-fcc8-420e-f4ac-3392d7a025f7"
      },
      "outputs": [
        {
          "name": "stdout",
          "output_type": "stream",
          "text": [
            "result_add:\n",
            "a    13.0\n",
            "b    -3.0\n",
            "c     7.0\n",
            "d     8.0\n",
            "e     8.0\n",
            "dtype: float64\n",
            "\n",
            "result_sub:\n",
            "a   -7.0\n",
            "b   -7.0\n",
            "c    5.0\n",
            "d    0.0\n",
            "e   -6.0\n",
            "dtype: float64\n",
            "\n",
            "result_div:\n",
            "a    0.30\n",
            "b   -2.50\n",
            "c    1.75\n",
            "d    1.00\n",
            "e    0.50\n",
            "dtype: float64\n",
            "\n",
            "result_mul:\n",
            "a    30.0\n",
            "b   -10.0\n",
            "c    21.0\n",
            "d    16.0\n",
            "e    24.0\n",
            "dtype: float64\n"
          ]
        }
      ],
      "source": [
        "# Example Series\n",
        "s = pd.Series([3, -5, 7, 4], index=['a', 'b', 'c', 'd'])\n",
        "s3 = pd.Series([10, 2, 4, 8], index=['a', 'b', 'd', 'e'])\n",
        "\n",
        "# Perform arithmetic operations with fill methods\n",
        "result_add = s.add(s3, fill_value=0)\n",
        "result_sub = s.sub(s3, fill_value=2)\n",
        "result_div = s.div(s3, fill_value=4)\n",
        "result_mul = s.mul(s3, fill_value=3)\n",
        "\n",
        "print(\"result_add:\")\n",
        "print(result_add)\n",
        "\n",
        "print(\"\\nresult_sub:\")\n",
        "print(result_sub)\n",
        "\n",
        "print(\"\\nresult_div:\")\n",
        "print(result_div)\n",
        "\n",
        "print(\"\\nresult_mul:\")\n",
        "print(result_mul)"
      ]
    },
    {
      "cell_type": "markdown",
      "id": "3e3c7ab3",
      "metadata": {
        "id": "3e3c7ab3"
      },
      "source": [
        "## Asking For Help"
      ]
    },
    {
      "cell_type": "code",
      "execution_count": null,
      "id": "4d12c36b",
      "metadata": {
        "id": "4d12c36b",
        "outputId": "1e4de111-a4e3-425f-eaaa-d83ff38f17f3"
      },
      "outputs": [
        {
          "name": "stdout",
          "output_type": "stream",
          "text": [
            "Help on property:\n",
            "\n",
            "    Access a group of rows and columns by label(s) or a boolean array.\n",
            "    \n",
            "    ``.loc[]`` is primarily label based, but may also be used with a\n",
            "    boolean array.\n",
            "    \n",
            "    Allowed inputs are:\n",
            "    \n",
            "    - A single label, e.g. ``5`` or ``'a'``, (note that ``5`` is\n",
            "      interpreted as a *label* of the index, and **never** as an\n",
            "      integer position along the index).\n",
            "    - A list or array of labels, e.g. ``['a', 'b', 'c']``.\n",
            "    - A slice object with labels, e.g. ``'a':'f'``.\n",
            "    \n",
            "      .. warning:: Note that contrary to usual python slices, **both** the\n",
            "          start and the stop are included\n",
            "    \n",
            "    - A boolean array of the same length as the axis being sliced,\n",
            "      e.g. ``[True, False, True]``.\n",
            "    - An alignable boolean Series. The index of the key will be aligned before\n",
            "      masking.\n",
            "    - An alignable Index. The Index of the returned selection will be the input.\n",
            "    - A ``callable`` function with one argument (the calling Series or\n",
            "      DataFrame) and that returns valid output for indexing (one of the above)\n",
            "    \n",
            "    See more at :ref:`Selection by Label <indexing.label>`.\n",
            "    \n",
            "    Raises\n",
            "    ------\n",
            "    KeyError\n",
            "        If any items are not found.\n",
            "    IndexingError\n",
            "        If an indexed key is passed and its index is unalignable to the frame index.\n",
            "    \n",
            "    See Also\n",
            "    --------\n",
            "    DataFrame.at : Access a single value for a row/column label pair.\n",
            "    DataFrame.iloc : Access group of rows and columns by integer position(s).\n",
            "    DataFrame.xs : Returns a cross-section (row(s) or column(s)) from the\n",
            "        Series/DataFrame.\n",
            "    Series.loc : Access group of values using labels.\n",
            "    \n",
            "    Examples\n",
            "    --------\n",
            "    **Getting values**\n",
            "    \n",
            "    >>> df = pd.DataFrame([[1, 2], [4, 5], [7, 8]],\n",
            "    ...      index=['cobra', 'viper', 'sidewinder'],\n",
            "    ...      columns=['max_speed', 'shield'])\n",
            "    >>> df\n",
            "                max_speed  shield\n",
            "    cobra               1       2\n",
            "    viper               4       5\n",
            "    sidewinder          7       8\n",
            "    \n",
            "    Single label. Note this returns the row as a Series.\n",
            "    \n",
            "    >>> df.loc['viper']\n",
            "    max_speed    4\n",
            "    shield       5\n",
            "    Name: viper, dtype: int64\n",
            "    \n",
            "    List of labels. Note using ``[[]]`` returns a DataFrame.\n",
            "    \n",
            "    >>> df.loc[['viper', 'sidewinder']]\n",
            "                max_speed  shield\n",
            "    viper               4       5\n",
            "    sidewinder          7       8\n",
            "    \n",
            "    Single label for row and column\n",
            "    \n",
            "    >>> df.loc['cobra', 'shield']\n",
            "    2\n",
            "    \n",
            "    Slice with labels for row and single label for column. As mentioned\n",
            "    above, note that both the start and stop of the slice are included.\n",
            "    \n",
            "    >>> df.loc['cobra':'viper', 'max_speed']\n",
            "    cobra    1\n",
            "    viper    4\n",
            "    Name: max_speed, dtype: int64\n",
            "    \n",
            "    Boolean list with the same length as the row axis\n",
            "    \n",
            "    >>> df.loc[[False, False, True]]\n",
            "                max_speed  shield\n",
            "    sidewinder          7       8\n",
            "    \n",
            "    Alignable boolean Series:\n",
            "    \n",
            "    >>> df.loc[pd.Series([False, True, False],\n",
            "    ...        index=['viper', 'sidewinder', 'cobra'])]\n",
            "                max_speed  shield\n",
            "    sidewinder          7       8\n",
            "    \n",
            "    Index (same behavior as ``df.reindex``)\n",
            "    \n",
            "    >>> df.loc[pd.Index([\"cobra\", \"viper\"], name=\"foo\")]\n",
            "           max_speed  shield\n",
            "    foo\n",
            "    cobra          1       2\n",
            "    viper          4       5\n",
            "    \n",
            "    Conditional that returns a boolean Series\n",
            "    \n",
            "    >>> df.loc[df['shield'] > 6]\n",
            "                max_speed  shield\n",
            "    sidewinder          7       8\n",
            "    \n",
            "    Conditional that returns a boolean Series with column labels specified\n",
            "    \n",
            "    >>> df.loc[df['shield'] > 6, ['max_speed']]\n",
            "                max_speed\n",
            "    sidewinder          7\n",
            "    \n",
            "    Callable that returns a boolean Series\n",
            "    \n",
            "    >>> df.loc[lambda df: df['shield'] == 8]\n",
            "                max_speed  shield\n",
            "    sidewinder          7       8\n",
            "    \n",
            "    **Setting values**\n",
            "    \n",
            "    Set value for all items matching the list of labels\n",
            "    \n",
            "    >>> df.loc[['viper', 'sidewinder'], ['shield']] = 50\n",
            "    >>> df\n",
            "                max_speed  shield\n",
            "    cobra               1       2\n",
            "    viper               4      50\n",
            "    sidewinder          7      50\n",
            "    \n",
            "    Set value for an entire row\n",
            "    \n",
            "    >>> df.loc['cobra'] = 10\n",
            "    >>> df\n",
            "                max_speed  shield\n",
            "    cobra              10      10\n",
            "    viper               4      50\n",
            "    sidewinder          7      50\n",
            "    \n",
            "    Set value for an entire column\n",
            "    \n",
            "    >>> df.loc[:, 'max_speed'] = 30\n",
            "    >>> df\n",
            "                max_speed  shield\n",
            "    cobra              30      10\n",
            "    viper              30      50\n",
            "    sidewinder         30      50\n",
            "    \n",
            "    Set value for rows matching callable condition\n",
            "    \n",
            "    >>> df.loc[df['shield'] > 35] = 0\n",
            "    >>> df\n",
            "                max_speed  shield\n",
            "    cobra              30      10\n",
            "    viper               0       0\n",
            "    sidewinder          0       0\n",
            "    \n",
            "    **Getting values on a DataFrame with an index that has integer labels**\n",
            "    \n",
            "    Another example using integers for the index\n",
            "    \n",
            "    >>> df = pd.DataFrame([[1, 2], [4, 5], [7, 8]],\n",
            "    ...      index=[7, 8, 9], columns=['max_speed', 'shield'])\n",
            "    >>> df\n",
            "       max_speed  shield\n",
            "    7          1       2\n",
            "    8          4       5\n",
            "    9          7       8\n",
            "    \n",
            "    Slice with integer labels for rows. As mentioned above, note that both\n",
            "    the start and stop of the slice are included.\n",
            "    \n",
            "    >>> df.loc[7:9]\n",
            "       max_speed  shield\n",
            "    7          1       2\n",
            "    8          4       5\n",
            "    9          7       8\n",
            "    \n",
            "    **Getting values with a MultiIndex**\n",
            "    \n",
            "    A number of examples using a DataFrame with a MultiIndex\n",
            "    \n",
            "    >>> tuples = [\n",
            "    ...    ('cobra', 'mark i'), ('cobra', 'mark ii'),\n",
            "    ...    ('sidewinder', 'mark i'), ('sidewinder', 'mark ii'),\n",
            "    ...    ('viper', 'mark ii'), ('viper', 'mark iii')\n",
            "    ... ]\n",
            "    >>> index = pd.MultiIndex.from_tuples(tuples)\n",
            "    >>> values = [[12, 2], [0, 4], [10, 20],\n",
            "    ...         [1, 4], [7, 1], [16, 36]]\n",
            "    >>> df = pd.DataFrame(values, columns=['max_speed', 'shield'], index=index)\n",
            "    >>> df\n",
            "                         max_speed  shield\n",
            "    cobra      mark i           12       2\n",
            "               mark ii           0       4\n",
            "    sidewinder mark i           10      20\n",
            "               mark ii           1       4\n",
            "    viper      mark ii           7       1\n",
            "               mark iii         16      36\n",
            "    \n",
            "    Single label. Note this returns a DataFrame with a single index.\n",
            "    \n",
            "    >>> df.loc['cobra']\n",
            "             max_speed  shield\n",
            "    mark i          12       2\n",
            "    mark ii          0       4\n",
            "    \n",
            "    Single index tuple. Note this returns a Series.\n",
            "    \n",
            "    >>> df.loc[('cobra', 'mark ii')]\n",
            "    max_speed    0\n",
            "    shield       4\n",
            "    Name: (cobra, mark ii), dtype: int64\n",
            "    \n",
            "    Single label for row and column. Similar to passing in a tuple, this\n",
            "    returns a Series.\n",
            "    \n",
            "    >>> df.loc['cobra', 'mark i']\n",
            "    max_speed    12\n",
            "    shield        2\n",
            "    Name: (cobra, mark i), dtype: int64\n",
            "    \n",
            "    Single tuple. Note using ``[[]]`` returns a DataFrame.\n",
            "    \n",
            "    >>> df.loc[[('cobra', 'mark ii')]]\n",
            "                   max_speed  shield\n",
            "    cobra mark ii          0       4\n",
            "    \n",
            "    Single tuple for the index with a single label for the column\n",
            "    \n",
            "    >>> df.loc[('cobra', 'mark i'), 'shield']\n",
            "    2\n",
            "    \n",
            "    Slice from index tuple to single label\n",
            "    \n",
            "    >>> df.loc[('cobra', 'mark i'):'viper']\n",
            "                         max_speed  shield\n",
            "    cobra      mark i           12       2\n",
            "               mark ii           0       4\n",
            "    sidewinder mark i           10      20\n",
            "               mark ii           1       4\n",
            "    viper      mark ii           7       1\n",
            "               mark iii         16      36\n",
            "    \n",
            "    Slice from index tuple to index tuple\n",
            "    \n",
            "    >>> df.loc[('cobra', 'mark i'):('viper', 'mark ii')]\n",
            "                        max_speed  shield\n",
            "    cobra      mark i          12       2\n",
            "               mark ii          0       4\n",
            "    sidewinder mark i          10      20\n",
            "               mark ii          1       4\n",
            "    viper      mark ii          7       1\n",
            "\n"
          ]
        }
      ],
      "source": [
        "# Display help for a function or object\n",
        "help(pd.Series.loc)"
      ]
    },
    {
      "cell_type": "markdown",
      "id": "500c0e08",
      "metadata": {
        "id": "500c0e08"
      },
      "source": [
        "## Read and Write\n",
        "\n",
        "**CSV**\n",
        "\n",
        "```python\n",
        "# Read from CSV\n",
        "df_read = pd.read_csv(\n",
        "    'file.csv',\n",
        "     header=None,\n",
        "     nrows=5\n",
        ")\n",
        "\n",
        "# Write to CSV\n",
        "df.to_csv('myDataFrame.csv')\n",
        "```\n",
        "\n",
        "**Excel**\n",
        "\n",
        "\n",
        "```python\n",
        "# Read from Excel\n",
        "df_read_excel = pd.read_excel('file.xlsx')\n",
        "\n",
        "# Write to Excel\n",
        "df.to_excel(\n",
        "    'dir/myDataFrame.xlsx',\n",
        "    sheet_name='Sheet1'\n",
        ")\n",
        "\n",
        "# Read multiple sheets from the same file\n",
        "xlsx = pd.ExcelFile('file.xls')\n",
        "df_from_sheet1 = pd.read_excel(xlsx, 'Sheet1')\n",
        "```\n",
        "\n",
        "**SQL Query**\n",
        "\n",
        "```python\n",
        "from sqlalchemy import create_engine\n",
        "engine = create_engine('sqlite:///:memory:')\n",
        "\n",
        "# Read from SQL Query\n",
        "pd.read_sql(\"SELECT * FROM my_table;\", engine)\n",
        "\n",
        "# Read from Database Table\n",
        "pd.read_sql_table('my_table', engine)\n",
        "\n",
        "# Read from SQL Query using read_sql_query()\n",
        "pd.read_sql_query(\"SELECT * FROM my_table;\", engine)\n",
        "\n",
        "# Write DataFrame to SQL Table\n",
        "pd.to_sql('myDf', engine)\n",
        "```"
      ]
    }
  ],
  "metadata": {
    "kernelspec": {
      "display_name": "Python 3 (ipykernel)",
      "language": "python",
      "name": "python3"
    },
    "language_info": {
      "codemirror_mode": {
        "name": "ipython",
        "version": 3
      },
      "file_extension": ".py",
      "mimetype": "text/x-python",
      "name": "python",
      "nbconvert_exporter": "python",
      "pygments_lexer": "ipython3",
      "version": "3.8.10"
    },
    "colab": {
      "provenance": []
    }
  },
  "nbformat": 4,
  "nbformat_minor": 5
}